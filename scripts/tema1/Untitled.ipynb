{
 "cells": [
  {
   "cell_type": "markdown",
   "metadata": {},
   "source": [
    "# Constantes"
   ]
  },
  {
   "cell_type": "code",
   "execution_count": 4,
   "metadata": {},
   "outputs": [],
   "source": [
    "import math"
   ]
  },
  {
   "cell_type": "code",
   "execution_count": 2,
   "metadata": {
    "scrolled": true
   },
   "outputs": [
    {
     "data": {
      "text/plain": [
       "3.141592653589793"
      ]
     },
     "execution_count": 2,
     "metadata": {},
     "output_type": "execute_result"
    }
   ],
   "source": [
    "math.pi"
   ]
  },
  {
   "cell_type": "code",
   "execution_count": 3,
   "metadata": {},
   "outputs": [
    {
     "data": {
      "text/plain": [
       "2.718281828459045"
      ]
     },
     "execution_count": 3,
     "metadata": {},
     "output_type": "execute_result"
    }
   ],
   "source": [
    "math.e"
   ]
  },
  {
   "cell_type": "code",
   "execution_count": 4,
   "metadata": {},
   "outputs": [
    {
     "data": {
      "text/plain": [
       "6.283185307179586"
      ]
     },
     "execution_count": 4,
     "metadata": {},
     "output_type": "execute_result"
    }
   ],
   "source": [
    "math.tau"
   ]
  },
  {
   "cell_type": "code",
   "execution_count": 5,
   "metadata": {},
   "outputs": [
    {
     "data": {
      "text/plain": [
       "53.13010235415598"
      ]
     },
     "execution_count": 5,
     "metadata": {},
     "output_type": "execute_result"
    }
   ],
   "source": [
    "math.degrees(math.atan(4/3))"
   ]
  },
  {
   "cell_type": "code",
   "execution_count": 8,
   "metadata": {},
   "outputs": [
    {
     "data": {
      "text/plain": [
       "53.13010235415598"
      ]
     },
     "execution_count": 8,
     "metadata": {},
     "output_type": "execute_result"
    }
   ],
   "source": [
    "math.degrees(math.atan2(4,3 ))"
   ]
  },
  {
   "cell_type": "code",
   "execution_count": 10,
   "metadata": {},
   "outputs": [
    {
     "data": {
      "text/plain": [
       "6"
      ]
     },
     "execution_count": 10,
     "metadata": {},
     "output_type": "execute_result"
    }
   ],
   "source": [
    "math.factorial(3)"
   ]
  },
  {
   "cell_type": "code",
   "execution_count": 11,
   "metadata": {},
   "outputs": [
    {
     "data": {
      "text/plain": [
       "6.0"
      ]
     },
     "execution_count": 11,
     "metadata": {},
     "output_type": "execute_result"
    }
   ],
   "source": [
    "math.gamma(4)"
   ]
  },
  {
   "cell_type": "code",
   "execution_count": 13,
   "metadata": {},
   "outputs": [
    {
     "data": {
      "text/plain": [
       "6.0"
      ]
     },
     "execution_count": 13,
     "metadata": {},
     "output_type": "execute_result"
    }
   ],
   "source": [
    "math.gamma(4)"
   ]
  },
  {
   "cell_type": "code",
   "execution_count": 5,
   "metadata": {},
   "outputs": [
    {
     "name": "stdout",
     "output_type": "stream",
     "text": [
      "Introduce un número: 4\n",
      "El número es positivo\n"
     ]
    }
   ],
   "source": [
    "def isPositive():\n",
    "    number = int(input('Introduce un número: '))\n",
    "    if number > 0:\n",
    "        return 'El número es positivo'\n",
    "    elif number == 0:\n",
    "        return 'El numero es 0'\n",
    "    else:\n",
    "        return 'El número es negativo'\n",
    "    \n",
    "print(isPositive())"
   ]
  },
  {
   "cell_type": "code",
   "execution_count": 12,
   "metadata": {},
   "outputs": [
    {
     "ename": "IndentationError",
     "evalue": "unexpected indent (<ipython-input-12-fb352363cc20>, line 3)",
     "output_type": "error",
     "traceback": [
      "\u001b[1;36m  File \u001b[1;32m\"<ipython-input-12-fb352363cc20>\"\u001b[1;36m, line \u001b[1;32m3\u001b[0m\n\u001b[1;33m    if number > -5 and number < 5:\u001b[0m\n\u001b[1;37m    ^\u001b[0m\n\u001b[1;31mIndentationError\u001b[0m\u001b[1;31m:\u001b[0m unexpected indent\n"
     ]
    }
   ],
   "source": [
    "def betweenFive():\n",
    "    number = int(input('Introduce un número: '))\n",
    "        if number > -5 and number < 5:\n",
    "            return 'El número esta en el rango de (-5, 5)'\n",
    "        else:\n",
    "            return 'El número no está en el rango'\n",
    "    \n",
    "print(betweenFive())"
   ]
  },
  {
   "cell_type": "code",
   "execution_count": 14,
   "metadata": {},
   "outputs": [
    {
     "name": "stdout",
     "output_type": "stream",
     "text": [
      "Estas en el cuarto cuadrante\n"
     ]
    }
   ],
   "source": [
    "def getQuadrant(x, y):\n",
    "    if x > 0 and y > 0:\n",
    "        return 'Estas en el primer cuadrante'\n",
    "    elif x < 0 and y > 0:\n",
    "        return 'Estas en el segundo cuadrante'\n",
    "    elif x < 0 and y < 0:\n",
    "        return 'Estas en el tercer cuadrante'\n",
    "    elif x > 0 and y < 0:\n",
    "        return 'Estas en el cuarto cuadrante'\n",
    "    else:\n",
    "        return 'Estas en el eje de coordenadas'\n",
    "    \n",
    "print(getQuadrant(3, -3))\n",
    "    "
   ]
  },
  {
   "cell_type": "code",
   "execution_count": 15,
   "metadata": {},
   "outputs": [],
   "source": [
    "import math"
   ]
  },
  {
   "cell_type": "code",
   "execution_count": 34,
   "metadata": {},
   "outputs": [
    {
     "name": "stdout",
     "output_type": "stream",
     "text": [
      "La divison entera es: 1\n",
      "La resto es: 2.0\n"
     ]
    }
   ],
   "source": [
    "def getDivision(x, y):\n",
    "    rest = math.fmod(x , y)\n",
    "    intDivision = x//y\n",
    "    return (rest, intDivision)\n",
    " \n",
    "print('La divison entera es: ' + str(getDivision(5, 3)[1]))\n",
    "print('La resto es: ' + str(getDivision(5, 3)[0]))"
   ]
  },
  {
   "cell_type": "code",
   "execution_count": 49,
   "metadata": {},
   "outputs": [
    {
     "name": "stdout",
     "output_type": "stream",
     "text": [
      "No es cuadrado perfecto\n"
     ]
    }
   ],
   "source": [
    "def getSquareInt(x):\n",
    "    number = math.sqrt(x)\n",
    "    if (number - math.trunc(number)) == 0:\n",
    "        return 'Es cuadrado perfecto'\n",
    "    else:\n",
    "        return 'No es cuadrado perfecto'\n",
    "    \n",
    "print(getSquareInt(122))"
   ]
  },
  {
   "cell_type": "code",
   "execution_count": 55,
   "metadata": {},
   "outputs": [
    {
     "name": "stdout",
     "output_type": "stream",
     "text": [
      "Introduce un número: 2016\n",
      "Es año visiesto\n"
     ]
    }
   ],
   "source": [
    "def getLeapYear():\n",
    "    number = int(input('Introduce un número: '))\n",
    "    if math.fmod(number, 4) == 0:\n",
    "        return 'Es año visiesto'\n",
    "    else: \n",
    "        return 'No es año visiesto'\n",
    "\n",
    "print(getLeapYear())"
   ]
  },
  {
   "cell_type": "code",
   "execution_count": 64,
   "metadata": {},
   "outputs": [
    {
     "name": "stdout",
     "output_type": "stream",
     "text": [
      "Introduce un número del 1-8: 9\n",
      "Introduce un número del 1-8: 1\n",
      "Introduce una letra de la A-H: a\n",
      "La ficha es blanca\n"
     ]
    }
   ],
   "source": [
    "def getPosition():\n",
    "    number = int(input('Introduce un número del 1-8: '))\n",
    "    \n",
    "    if(number < 1 or number > 8):\n",
    "        return getPosition()\n",
    "    \n",
    "    lirics = input('Introduce una letra de la A-H: ').upper()\n",
    "\n",
    "    if lirics == 'A' or lirics == 'C' or lirics == 'E' or lirics == 'G':\n",
    "        if math.fmod(number, 2) == 0:\n",
    "            return 'La ficha es negra'\n",
    "        else:\n",
    "            return 'La ficha es blanca'\n",
    "    elif lirics == 'B' or lirics == 'D' or lirics == 'F' or lirics == 'H':\n",
    "        if math.fmod(number, 2) == 0:\n",
    "            return 'La ficha es blanca'\n",
    "        else:\n",
    "            return 'La ficha es negra'\n",
    "    else:\n",
    "        return getPosition()\n",
    "        \n",
    "print(getPosition())"
   ]
  },
  {
   "cell_type": "code",
   "execution_count": null,
   "metadata": {},
   "outputs": [],
   "source": []
  }
 ],
 "metadata": {
  "kernelspec": {
   "display_name": "Python 3",
   "language": "python",
   "name": "python3"
  },
  "language_info": {
   "codemirror_mode": {
    "name": "ipython",
    "version": 3
   },
   "file_extension": ".py",
   "mimetype": "text/x-python",
   "name": "python",
   "nbconvert_exporter": "python",
   "pygments_lexer": "ipython3",
   "version": "3.7.4"
  }
 },
 "nbformat": 4,
 "nbformat_minor": 2
}
